{
 "cells": [
  {
   "cell_type": "markdown",
   "metadata": {},
   "source": [
    "* Policy gradients and deep Q-networks (DQNs)\n",
    "* Markov decision processes (MDPs)\n",
    "* The policy can be any algorithm you can think of, and it does not have to be deterministic. In fact, in some cases it does not even have to observe the environment!\n",
    "* It may be programmed to get positive rewards whenever it approaches the target destination, and negative rewards whenever it wastes time or goes in the wrong direction.\n",
    "* If the policy involves some randomness, it is called a stochastic policy\n",
    "* Two policy parameters you can tweak: the probability p and the angle range r. This is an example of policy search, in this case using a brute force approach\n",
    "* When the policy space is too large (which is generally the case), finding a good set of parameters this way is like searching for a needle in a gigantic haystack.\n",
    "* Genetic algorithms. For example, you could randomly create a first generation of 100 policies and try them out, then “kill” the 80 worst policies6 and make the 20 survivors produce 4 offspring each. An offspring is a copy of its parent7 plus some \n",
    "random variation. The surviving policies plus their offspring together constitute the second generation. You can continue to iterate through generations this way until you find a good policy"
   ]
  },
  {
   "cell_type": "code",
   "execution_count": 5,
   "metadata": {},
   "outputs": [],
   "source": [
    "from IPython import display\n",
    "import numpy as np\n",
    "import time\n",
    "import gym\n",
    "import PIL.Image\n",
    "import io\n",
    "import matplotlib.pyplot as plt "
   ]
  },
  {
   "cell_type": "markdown",
   "metadata": {},
   "source": [
    "### CartPole-v1\n",
    "\n",
    "* After the environment is created, you must initialize it using the reset() method. This returns the first observation.\n",
    "* Each observation is a 1D NumPy array containing four floats: these floats represent the cart’s horizontal position (0.0 = center), its velocity (positive means right), the angle of the pole (0.0 = vertical), and its angular velocity (positive means clockwise).\n",
    "* To display this environment by calling its render() method what actions are possible\n",
    "* The step() method executes the given action and returns four values\n",
    "    * obs > This is the new observation.\n",
    "    * reward > In this environment, you get a reward of 1.0 at every step, no matter what you do\n",
    "    * done > This value will be True when the episode is over.\n",
    "    * info > This environment-specific dictionary can provide some extra information that you may find useful for debugging or for training\n",
    "* Once finished using an environment, you should call its close() method to free resources"
   ]
  },
  {
   "cell_type": "markdown",
   "metadata": {},
   "source": [
    "### Screenshot"
   ]
  },
  {
   "cell_type": "code",
   "execution_count": 6,
   "metadata": {},
   "outputs": [
    {
     "name": "stdout",
     "output_type": "stream",
     "text": [
      "[ 0.02182142 -0.01466921 -0.00882932  0.04596068]\n"
     ]
    },
    {
     "data": {
      "image/png": "[encoded data removed]",
      "text/plain": [
       "<Figure size 432x288 with 1 Axes>"
      ]
     },
     "metadata": {
      "needs_background": "light"
     },
     "output_type": "display_data"
    }
   ],
   "source": [
    "env = gym.make(\"CartPole-v1\")\n",
    "obs = env.reset()\n",
    "print(obs)\n",
    "plt.imshow(env.render(mode='rgb_array'))\n",
    "env.close()"
   ]
  },
  {
   "cell_type": "code",
   "execution_count": 7,
   "metadata": {},
   "outputs": [
    {
     "data": {
      "text/plain": [
       "Discrete(2)"
      ]
     },
     "execution_count": 7,
     "metadata": {},
     "output_type": "execute_result"
    }
   ],
   "source": [
    "# That means that the possible actions are integers 0 and 1, which represent accelerating left (0) or right (1).\n",
    "env.action_space"
   ]
  },
  {
   "cell_type": "markdown",
   "metadata": {},
   "source": [
    "### Animation"
   ]
  },
  {
   "cell_type": "code",
   "execution_count": 8,
   "metadata": {},
   "outputs": [],
   "source": [
    "def showarray(a, fmt='png'):\n",
    "    a = np.uint8(a)\n",
    "    f = io.BytesIO()\n",
    "    ima = PIL.Image.fromarray(a).save(f, fmt)\n",
    "    return f.getvalue()"
   ]
  },
  {
   "cell_type": "code",
   "execution_count": 9,
   "metadata": {},
   "outputs": [],
   "source": [
    "def image(env):\n",
    "    mode_rgb = env.render(mode='rgb_array')\n",
    "    show = showarray(mode_rgb)\n",
    "    return display.Image(data=show, width=450)"
   ]
  },
  {
   "cell_type": "code",
   "execution_count": 11,
   "metadata": {},
   "outputs": [
    {
     "data": {
      "image/png": "[encoded data removed]",
      "text/plain": [
       "<IPython.core.display.Image object>"
      ]
     },
     "metadata": {
      "image/png": {
       "width": 450
      }
     },
     "output_type": "display_data"
    }
   ],
   "source": [
    "env = gym.make('CartPole-v0')\n",
    "env.reset()\n",
    "\n",
    "imagehandle = display.display(image(env), display_id='gymscr')\n",
    "\n",
    "for _ in range(100):\n",
    "    time.sleep(0.01)\n",
    "    action = env.action_space.sample()\n",
    "    env.step(action) # take a random action\n",
    "    display.update_display(image(env), display_id='gymscr')"
   ]
  },
  {
   "cell_type": "markdown",
   "metadata": {},
   "source": [
    "### Example1\n",
    "\n",
    "Observation values\n",
    "1. the cart’s horizontal position (0.0 = center), \n",
    "2. its velocity (positive means right), \n",
    "3. the angle of the pole (0.0 = vertical), \n",
    "4. its angular velocity (positive means clockwise)"
   ]
  },
  {
   "cell_type": "code",
   "execution_count": 16,
   "metadata": {},
   "outputs": [],
   "source": [
    "def basic_policy(obs):\n",
    "    angle = obs[2] # get the angle\n",
    "    return 0 if angle < 0 else 1 \n",
    "    # if < 0 then 0\n",
    "    # if >= 0 then 1"
   ]
  },
  {
   "cell_type": "code",
   "execution_count": 17,
   "metadata": {},
   "outputs": [
    {
     "data": {
      "image/png": "[encoded data removed]",
      "text/plain": [
       "<IPython.core.display.Image object>"
      ]
     },
     "metadata": {
      "image/png": {
       "width": 450
      }
     },
     "output_type": "display_data"
    },
    {
     "name": "stdout",
     "output_type": "stream",
     "text": [
      "0 [ 0.00881079 -0.20501064 -0.02837621  0.27633896] 1.0 False {}\n",
      "0 [ 0.00471058 -0.3997165  -0.02284943  0.55993869] 1.0 False {}\n",
      "0 [-0.00328375 -0.59451041 -0.01165066  0.84533614] 1.0 False {}\n",
      "0 [-0.01517396 -0.78947148  0.00525606  1.13433268] 1.0 False {}\n",
      "1 [-0.03096339 -0.5944187   0.02794272  0.84330283] 1.0 False {}\n",
      "1 [-0.04285176 -0.39968902  0.04480877  0.55953642] 1.0 False {}\n",
      "1 [-0.05084554 -0.2052237   0.0559995   0.2813006 ] 1.0 False {}\n",
      "1 [-0.05495002 -0.0109434   0.06162551  0.00679222] 1.0 False {}\n",
      "1 [-0.05516889  0.1832431   0.06176136 -0.26582817] 1.0 False {}\n",
      "1 [-0.05150402  0.37743168  0.05644479 -0.53840937] 1.0 False {}\n",
      "1 [-0.04395539  0.57171656  0.04567661 -0.81278661] 1.0 False {}\n",
      "1 [-0.03252106  0.76618411  0.02942087 -1.09075944] 1.0 False {}\n",
      "1 [-0.01719738  0.96090618  0.00760569 -1.37406766] 1.0 False {}\n",
      "1 [ 0.00202075  1.15593225 -0.01987567 -1.66436224] 1.0 False {}\n",
      "0 [ 0.02513939  0.96104719 -0.05316291 -1.37793546] 1.0 False {}\n",
      "0 [ 0.04436034  0.76662797 -0.08072162 -1.10234118] 1.0 False {}\n",
      "0 [ 0.0596929   0.57265535 -0.10276844 -0.83603607] 1.0 False {}\n",
      "0 [ 0.071146    0.37907601 -0.11948917 -0.57735982] 1.0 False {}\n",
      "0 [ 0.07872752  0.18581362 -0.13103636 -0.32457956] 1.0 False {}\n",
      "0 [ 0.08244379 -0.00722281 -0.13752795 -0.07592181] 1.0 False {}\n",
      "0 [ 0.08229934 -0.20013265 -0.13904639  0.17040488] 1.0 False {}\n",
      "0 [ 0.07829669 -0.39301889 -0.13563829  0.41619377] 1.0 False {}\n",
      "0 [ 0.07043631 -0.58598404 -0.12731442  0.66322748] 1.0 False {}\n",
      "0 [ 0.05871663 -0.77912643 -0.11404987  0.91326686] 1.0 False {}\n",
      "0 [ 0.0431341  -0.97253621 -0.09578453  1.16803874] 1.0 False {}\n",
      "0 [ 0.02368337 -1.16629048 -0.07242376  1.42922033] 1.0 False {}\n",
      "0 [ 3.57564606e-04 -1.36044721e+00 -4.38393487e-02  1.69841800e+00] 1.0 False {}\n",
      "0 [-0.02685138 -1.55503724 -0.00987099  1.97713796] 1.0 False {}\n",
      "0 [-0.05795212 -1.75005389  0.02967177  2.26674666] 1.0 False {}\n",
      "1 [-0.0929532  -1.55522105  0.0750067   1.98334827] 1.0 False {}\n",
      "1 [-0.12405762 -1.36096301  0.11467367  1.71481179] 1.0 False {}\n",
      "1 [-0.15127688 -1.16732851  0.1489699   1.45990789] 1.0 False {}\n",
      "1 [-0.17462345 -0.97431403  0.17816806  1.2172281 ] 1.0 False {}\n",
      "1 [-0.19410973 -0.78187961  0.20251262  0.98525055] 1.0 False {}\n",
      "1 [-0.20974733 -0.58996084  0.22221764  0.76238797] 1.0 True {}\n",
      "[-0.20974733 -0.58996084  0.22221764  0.76238797] 1.0 True {}\n"
     ]
    }
   ],
   "source": [
    "episode_rewards = 0\n",
    "totals = []\n",
    "\n",
    "env = gym.make('CartPole-v0')\n",
    "obs = env.reset()\n",
    "imagehandle = display.display(image(env), display_id='gymscr')\n",
    "for _ in range(200):\n",
    "    time.sleep(0.01)\n",
    "    action = basic_policy(obs)\n",
    "    obs, reward, done, info = env.step(action)\n",
    "    episode_rewards += reward\n",
    "    print(action,obs,reward,done,info)\n",
    "    if done: \n",
    "        print(obs,reward,done,info)\n",
    "        break\n",
    "    display.update_display(image(env), display_id='gymscr')\n",
    "    totals.append(episode_rewards)"
   ]
  },
  {
   "cell_type": "code",
   "execution_count": 15,
   "metadata": {},
   "outputs": [
    {
     "data": {
      "text/plain": [
       "(25.5, 14.430869689661812, 1.0, 50.0)"
      ]
     },
     "execution_count": 15,
     "metadata": {},
     "output_type": "execute_result"
    }
   ],
   "source": [
    "# finish after  np.max(totals) observations\n",
    "np.mean(totals), np.std(totals), np.min(totals), np.max(totals)"
   ]
  },
  {
   "cell_type": "markdown",
   "metadata": {},
   "source": [
    "#### Neural Network Policies\n",
    "* why we are picking a random action based on the probabilities given by the neural network, rather than just picking the action with the highest score. This approach lets the agent find the right balance between exploring new actions and exploiting the actions that are known to work well.\n",
    "* In this particular environment, the past actions and observations can safely be ignored, since each observation contains the environment’s full state\n",
    "*  If there were some hidden state, then you might need to consider past actions and observations as well.\n",
    "* For example, if the environment only revealed the position of the cart but not its velocity, you would have to consider not only the current observation but also the previous observation in order to estimate the current velocity. \n"
   ]
  },
  {
   "cell_type": "code",
   "execution_count": 19,
   "metadata": {},
   "outputs": [],
   "source": [
    "import tensorflow as tf\n",
    "from tensorflow import keras"
   ]
  },
  {
   "cell_type": "markdown",
   "metadata": {},
   "source": [
    "* the total input of neurons is 4, env.observation_space.shape[0]\n",
    "* the otput_neuront is the probability of going left p. Then, p-1 is for going right\n",
    "* the activation function is sigmoid because it is only one output action\n",
    "* If there were more than two possible actions, there would be one output neuron per action, and we would use the softmax activation function instead."
   ]
  },
  {
   "cell_type": "code",
   "execution_count": 20,
   "metadata": {},
   "outputs": [],
   "source": [
    "hidden_units = 5\n",
    "output_neuron = 1 \n",
    "n_inputs = 4 \n",
    "\n",
    "model = keras.models.Sequential([\n",
    "    keras.layers.Dense(hidden_units, activation=\"elu\", input_shape=[n_inputs]),\n",
    "    keras.layers.Dense(output_neuron, activation=\"sigmoid\"),\n",
    "])"
   ]
  },
  {
   "cell_type": "markdown",
   "metadata": {},
   "source": [
    "* If we knew what the best action was at each step, we could train the neural network as usual, by minimizing the cross entropy between the estimated probability distribution and the target probability distribution. It would just be regular supervised learning\n",
    "* In Reinforcement Learning the only guidance the agent gets is through rewards, and rewards are typically sparse and delayed\n",
    "*  For example, if the agentmanages to balance the pole for 100 steps, how can it know which of the 100 actions it took were good, and which of them were bad?\n",
    "* This is called the credit assignment problem: when the agent gets a reward, it is hard for it to know which actions should get credited (or blamed) for it. "
   ]
  },
  {
   "cell_type": "markdown",
   "metadata": {},
   "source": [
    "### The Credit Assignment Problem"
   ]
  }
 ],
 "metadata": {
  "kernelspec": {
   "display_name": "Python 3",
   "language": "python",
   "name": "python3"
  },
  "language_info": {
   "codemirror_mode": {
    "name": "ipython",
    "version": 3
   },
   "file_extension": ".py",
   "mimetype": "text/x-python",
   "name": "python",
   "nbconvert_exporter": "python",
   "pygments_lexer": "ipython3",
   "version": "3.8.6"
  }
 },
 "nbformat": 4,
 "nbformat_minor": 2
}
