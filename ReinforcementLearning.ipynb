{
 "cells": [
  {
   "cell_type": "markdown",
   "metadata": {},
   "source": [
    "* Policy gradients and deep Q-networks (DQNs)\n",
    "* Markov decision processes (MDPs)\n",
    "* The policy can be any algorithm you can think of, and it does not have to be deterministic. In fact, in some cases it does not even have to observe the environment!\n",
    "* It may be programmed to get positive rewards whenever it approaches the target destination, and negative rewards whenever it wastes time or goes in the wrong direction.\n",
    "* If the policy involves some randomness, it is called a stochastic policy\n",
    "* Two policy parameters you can tweak: the probability p and the angle range r. This is an example of policy search, in this case using a brute force approach\n",
    "* When the policy space is too large (which is generally the case), finding a good set of parameters this way is like searching for a needle in a gigantic haystack.\n",
    "* Genetic algorithms. For example, you could randomly create a first generation of 100 policies and try them out, then “kill” the 80 worst policies6 and make the 20 survivors produce 4 offspring each. An offspring is a copy of its parent7 plus some \n",
    "random variation. The surviving policies plus their offspring together constitute the second generation. You can continue to iterate through generations this way until you find a good policy"
   ]
  },
  {
   "cell_type": "code",
   "execution_count": 36,
   "metadata": {},
   "outputs": [],
   "source": [
    "from IPython import display\n",
    "import numpy as np\n",
    "import time\n",
    "import gym\n",
    "import PIL.Image\n",
    "import io"
   ]
  },
  {
   "cell_type": "markdown",
   "metadata": {},
   "source": [
    "* After the environment is created, you must initialize it using the reset() method. This returns the first observation.\n",
    "* Each observation is a 1D NumPy array containing four floats: these floats represent the cart’s horizontal position (0.0 = center), its velocity (positive means right), the angle of the pole (0.0 = vertical), and its angular velocity (positive means clockwise).\n",
    "* To display this environment by calling its render() method what actions are possible\n",
    "* The step() method executes the given action and returns four values\n",
    "    * obs > This is the new observation.\n",
    "    * reward > In this environment, you get a reward of 1.0 at every step, no matter what you do\n",
    "    * done > This value will be True when the episode is over.\n",
    "    * info > This environment-specific dictionary can provide some extra information that you may find useful for debugging or for training\n",
    "* Once finished using an environment, you should call its close() method to free resources"
   ]
  },
  {
   "cell_type": "markdown",
   "metadata": {},
   "source": [
    "### Screenshot"
   ]
  },
  {
   "cell_type": "code",
   "execution_count": 45,
   "metadata": {},
   "outputs": [
    {
     "name": "stdout",
     "output_type": "stream",
     "text": [
      "[-0.01545023  0.01289725  0.03955405 -0.04210039]\n"
     ]
    },
    {
     "data": {
      "image/png": "[encoded data removed]",
      "text/plain": [
       "<Figure size 432x288 with 1 Axes>"
      ]
     },
     "metadata": {
      "needs_background": "light"
     },
     "output_type": "display_data"
    }
   ],
   "source": [
    "env = gym.make(\"CartPole-v1\")\n",
    "obs = env.reset()\n",
    "print(obs)\n",
    "plt.imshow(env.render(mode='rgb_array'))\n",
    "env.close()"
   ]
  },
  {
   "cell_type": "code",
   "execution_count": 47,
   "metadata": {},
   "outputs": [
    {
     "data": {
      "text/plain": [
       "Discrete(2)"
      ]
     },
     "execution_count": 47,
     "metadata": {},
     "output_type": "execute_result"
    }
   ],
   "source": [
    "# That means that the possible actions are integers 0 and 1, which represent accelerating left (0) or right (1).\n",
    "env.action_space"
   ]
  },
  {
   "cell_type": "markdown",
   "metadata": {},
   "source": [
    "### Animation"
   ]
  },
  {
   "cell_type": "code",
   "execution_count": 37,
   "metadata": {},
   "outputs": [],
   "source": [
    "def showarray(a, fmt='png'):\n",
    "    a = np.uint8(a)\n",
    "    f = io.BytesIO()\n",
    "    ima = PIL.Image.fromarray(a).save(f, fmt)\n",
    "    return f.getvalue()"
   ]
  },
  {
   "cell_type": "code",
   "execution_count": 51,
   "metadata": {},
   "outputs": [],
   "source": [
    "def image(env):\n",
    "    mode_rgb = env.render(mode='rgb_array')\n",
    "    show = showarray(mode_rgb)\n",
    "    return display.Image(data=show, width=450)"
   ]
  },
  {
   "cell_type": "code",
   "execution_count": 53,
   "metadata": {},
   "outputs": [
    {
     "data": {
      "image/png": "[encoded data removed]",
      "text/plain": [
       "<IPython.core.display.Image object>"
      ]
     },
     "metadata": {
      "image/png": {
       "width": 450
      }
     },
     "output_type": "display_data"
    }
   ],
   "source": [
    "env = gym.make('CartPole-v0')\n",
    "env.reset()\n",
    "\n",
    "imagehandle = display.display(image(env), display_id='gymscr')\n",
    "\n",
    "for _ in range(100):\n",
    "    time.sleep(0.01)\n",
    "    action = env.action_space.sample()\n",
    "    env.step(action) # take a random action\n",
    "    display.update_display(image(env), display_id='gymscr')"
   ]
  },
  {
   "cell_type": "markdown",
   "metadata": {},
   "source": [
    "### Example1"
   ]
  },
  {
   "cell_type": "code",
   "execution_count": 49,
   "metadata": {},
   "outputs": [],
   "source": [
    "def basic_policy(obs):\n",
    "    angle = obs[2]\n",
    "    return 0 if angle < 0 else 1"
   ]
  },
  {
   "cell_type": "markdown",
   "metadata": {},
   "source": [
    "Observation values\n",
    "1. the cart’s horizontal position (0.0 = center), \n",
    "2. its velocity (positive means right), \n",
    "3. the angle of the pole (0.0 = vertical), \n",
    "4. its angular velocity (positive means clockwise)"
   ]
  },
  {
   "cell_type": "code",
   "execution_count": 61,
   "metadata": {},
   "outputs": [
    {
     "data": {
      "image/png": "[encoded data removed]",
      "text/plain": [
       "<IPython.core.display.Image object>"
      ]
     },
     "metadata": {
      "image/png": {
       "width": 450
      }
     },
     "output_type": "display_data"
    },
    {
     "name": "stdout",
     "output_type": "stream",
     "text": [
      "[ 0.00374958 -0.14652763 -0.0247879   0.25333453] 1.0 False {}\n",
      "[ 0.00081903 -0.34128703 -0.01972121  0.53809699] 1.0 False {}\n",
      "[-0.00600671 -0.53612625 -0.00895927  0.82450133] 1.0 False {}\n",
      "[-0.01672924 -0.73112452  0.00753076  1.114353  ] 1.0 False {}\n",
      "[-0.03135173 -0.53610225  0.02981782  0.82404192] 1.0 False {}\n",
      "[-0.04207377 -0.34140059  0.04629866  0.54088439] 1.0 False {}\n",
      "[-0.04890178 -0.14695894  0.05711635  0.26314141] 1.0 False {}\n",
      "[-0.05184096  0.04730319  0.06237917 -0.01099354] 1.0 False {}\n",
      "[-0.0508949   0.24147765  0.0621593  -0.28336115] 1.0 False {}\n",
      "[-0.04606535  0.43566048  0.05649208 -0.5558098 ] 1.0 False {}\n",
      "[-0.03735214  0.62994567  0.04537588 -0.83017284] 1.0 False {}\n",
      "[-0.02475322  0.82441898  0.02877243 -1.10824661] 1.0 False {}\n",
      "[-0.00826484  1.0191512   0.0066075  -1.39176612] 1.0 False {}\n",
      "[ 0.01211818  1.21419025 -0.02122783 -1.68237573] 1.0 False {}\n",
      "[ 0.03640198  1.01932046 -0.05487534 -1.39637741] 1.0 False {}\n",
      "[ 0.05678839  0.82492237 -0.08280289 -1.12134447] 1.0 False {}\n",
      "[ 0.07328684  0.63097813 -0.10522978 -0.85574108] 1.0 False {}\n",
      "[ 0.0859064   0.43743541 -0.1223446  -0.59791338] 1.0 False {}\n",
      "[ 0.09465511  0.2442186  -0.13430287 -0.34613419] 1.0 False {}\n",
      "[ 0.09953948  0.05123719 -0.14122555 -0.09863524] 1.0 False {}\n",
      "[ 0.10056423 -0.14160797 -0.14319826  0.14637019] 1.0 False {}\n",
      "[ 0.09773207 -0.33441987 -0.14027085  0.39067123] 1.0 False {}\n",
      "[ 0.09104367 -0.52730136 -0.13245743  0.63604727] 1.0 False {}\n",
      "[ 0.08049764 -0.72035156 -0.11973648  0.88425727] 1.0 False {}\n",
      "[ 0.06609061 -0.91366198 -0.10205134  1.13702832] 1.0 False {}\n",
      "[ 0.04781737 -1.10731194 -0.07931077  1.39604096] 1.0 False {}\n",
      "[ 0.02567113 -1.30136274 -0.05138995  1.66290925] 1.0 False {}\n",
      "[-3.56120315e-04 -1.49585001e+00 -1.81317666e-02  1.93915302e+00] 1.0 False {}\n",
      "[-0.03027312 -1.69077381  0.02065129  2.22616021] 1.0 False {}\n",
      "[-0.0640886  -1.49585418  0.0651745   1.93991417] 1.0 False {}\n",
      "[-0.09400568 -1.30148549  0.10397278  1.66812787] 1.0 False {}\n",
      "[-0.12003539 -1.10771491  0.13733534  1.40955457] 1.0 False {}\n",
      "[-0.14218969 -0.91453743  0.16552643  1.16276649] 1.0 False {}\n",
      "[-0.16048044 -0.72191156  0.18878176  0.92621983] 1.0 False {}\n",
      "[-0.17491867 -0.52977121  0.20730616  0.69830252] 1.0 False {}\n",
      "[-0.18551409 -0.3380343   0.22127221  0.4773675 ] 1.0 True {}\n",
      "[-0.18551409 -0.3380343   0.22127221  0.4773675 ] 1.0 True {}\n"
     ]
    }
   ],
   "source": [
    "episode_rewards = 0\n",
    "totals = []\n",
    "\n",
    "env = gym.make('CartPole-v0')\n",
    "obs = env.reset()\n",
    "imagehandle = display.display(image(env), display_id='gymscr')\n",
    "for _ in range(200):\n",
    "    time.sleep(0.01)\n",
    "    action = basic_policy(obs)\n",
    "    obs, reward, done, info = env.step(action)\n",
    "    episode_rewards += reward\n",
    "    print(obs,reward,done,info)\n",
    "    if done: \n",
    "        print(obs,reward,done,info)\n",
    "        break\n",
    "    display.update_display(image(env), display_id='gymscr')\n",
    "    totals.append(episode_rewards)"
   ]
  },
  {
   "cell_type": "code",
   "execution_count": 63,
   "metadata": {},
   "outputs": [
    {
     "data": {
      "text/plain": [
       "(18.0, 10.099504938362077, 1.0, 35.0)"
      ]
     },
     "execution_count": 63,
     "metadata": {},
     "output_type": "execute_result"
    }
   ],
   "source": [
    "# finish after 35 observations\n",
    "np.mean(totals), np.std(totals), np.min(totals), np.max(totals)"
   ]
  },
  {
   "cell_type": "markdown",
   "metadata": {},
   "source": [
    "#### Neural Network Policies"
   ]
  }
 ],
 "metadata": {
  "kernelspec": {
   "display_name": "Python 3",
   "language": "python",
   "name": "python3"
  },
  "language_info": {
   "codemirror_mode": {
    "name": "ipython",
    "version": 3
   },
   "file_extension": ".py",
   "mimetype": "text/x-python",
   "name": "python",
   "nbconvert_exporter": "python",
   "pygments_lexer": "ipython3",
   "version": "3.8.6"
  }
 },
 "nbformat": 4,
 "nbformat_minor": 2
}
