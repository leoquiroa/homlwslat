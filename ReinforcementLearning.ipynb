{
 "cells": [
  {
   "cell_type": "code",
   "execution_count": 1,
   "metadata": {},
   "outputs": [],
   "source": [
    "# xvfb-run -s \"-screen 0 1400x900x24\" jupyter notebook"
   ]
  },
  {
   "cell_type": "markdown",
   "metadata": {},
   "source": [
    "* Policy gradients and deep Q-networks (DQNs)\n",
    "* Markov decision processes (MDPs)\n",
    "* The policy can be any algorithm you can think of, and it does not have to be deterministic. In fact, in some cases it does not even have to observe the environment!\n",
    "* It may be programmed to get positive rewards whenever it approaches the target destination, and negative rewards whenever it wastes time or goes in the wrong direction.\n",
    "* If the policy involves some randomness, it is called a stochastic policy\n",
    "* Two policy parameters you can tweak: the probability p and the angle range r. This is an example of policy search, in this case using a brute force approach\n",
    "* When the policy space is too large (which is generally the case), finding a good set of parameters this way is like searching for a needle in a gigantic haystack.\n",
    "* Genetic algorithms. For example, you could randomly create a first generation of 100 policies and try them out, then “kill” the 80 worst policies6 and make the 20 survivors produce 4 offspring each. An offspring is a copy of its parent7 plus some \n",
    "random variation. The surviving policies plus their offspring together constitute the second generation. You can continue to iterate through generations this way until you find a good policy"
   ]
  },
  {
   "cell_type": "code",
   "execution_count": 2,
   "metadata": {},
   "outputs": [],
   "source": [
    "from IPython import display\n",
    "import numpy as np\n",
    "import time\n",
    "import gym\n",
    "import PIL.Image\n",
    "import io\n",
    "import matplotlib.pyplot as plt "
   ]
  },
  {
   "cell_type": "markdown",
   "metadata": {},
   "source": [
    "### CartPole-v1\n",
    "\n",
    "* After the environment is created, you must initialize it using the reset() method. This returns the first observation.\n",
    "* Each observation is a 1D NumPy array containing four floats: these floats represent the cart’s horizontal position (0.0 = center), its velocity (positive means right), the angle of the pole (0.0 = vertical), and its angular velocity (positive means clockwise).\n",
    "* To display this environment by calling its render() method what actions are possible\n",
    "* The step() method executes the given action and returns four values\n",
    "    * obs > This is the new observation.\n",
    "    * reward > In this environment, you get a reward of 1.0 at every step, no matter what you do\n",
    "    * done > This value will be True when the episode is over.\n",
    "    * info > This environment-specific dictionary can provide some extra information that you may find useful for debugging or for training\n",
    "* Once finished using an environment, you should call its close() method to free resources"
   ]
  },
  {
   "cell_type": "markdown",
   "metadata": {},
   "source": [
    "### Screenshot"
   ]
  },
  {
   "cell_type": "code",
   "execution_count": 3,
   "metadata": {},
   "outputs": [
    {
     "name": "stdout",
     "output_type": "stream",
     "text": [
      "[ 0.01150457  0.0398663  -0.03032701  0.03706546]\n"
     ]
    },
    {
     "data": {
      "image/png": "[encoded data removed]",
      "text/plain": [
       "<Figure size 432x288 with 1 Axes>"
      ]
     },
     "metadata": {
      "needs_background": "light"
     },
     "output_type": "display_data"
    }
   ],
   "source": [
    "env = gym.make(\"CartPole-v1\")\n",
    "obs = env.reset()\n",
    "print(obs)\n",
    "plt.imshow(env.render(mode='rgb_array'))\n",
    "env.close()"
   ]
  },
  {
   "cell_type": "code",
   "execution_count": 4,
   "metadata": {},
   "outputs": [
    {
     "data": {
      "text/plain": [
       "Discrete(2)"
      ]
     },
     "execution_count": 4,
     "metadata": {},
     "output_type": "execute_result"
    }
   ],
   "source": [
    "# That means that the possible actions are integers 0 and 1, which represent accelerating left (0) or right (1).\n",
    "env.action_space"
   ]
  },
  {
   "cell_type": "markdown",
   "metadata": {},
   "source": [
    "### Animation"
   ]
  },
  {
   "cell_type": "code",
   "execution_count": 5,
   "metadata": {},
   "outputs": [],
   "source": [
    "def showarray(a, fmt='png'):\n",
    "    a = np.uint8(a)\n",
    "    f = io.BytesIO()\n",
    "    ima = PIL.Image.fromarray(a).save(f, fmt)\n",
    "    return f.getvalue()"
   ]
  },
  {
   "cell_type": "code",
   "execution_count": 6,
   "metadata": {},
   "outputs": [],
   "source": [
    "def image(env):\n",
    "    mode_rgb = env.render(mode='rgb_array')\n",
    "    show = showarray(mode_rgb)\n",
    "    return display.Image(data=show, width=450)"
   ]
  },
  {
   "cell_type": "code",
   "execution_count": 7,
   "metadata": {},
   "outputs": [
    {
     "data": {
      "image/png": "[encoded data removed]",
      "text/plain": [
       "<IPython.core.display.Image object>"
      ]
     },
     "metadata": {
      "image/png": {
       "width": 450
      }
     },
     "output_type": "display_data"
    },
    {
     "name": "stderr",
     "output_type": "stream",
     "text": [
      "/root/.pyenv/versions/3.8.6/envs/vml/lib/python3.8/site-packages/gym/logger.py:30: UserWarning: \u001b[33mWARN: You are calling 'step()' even though this environment has already returned done = True. You should always call 'reset()' once you receive 'done = True' -- any further steps are undefined behavior.\u001b[0m\n",
      "  warnings.warn(colorize('%s: %s'%('WARN', msg % args), 'yellow'))\n"
     ]
    }
   ],
   "source": [
    "env = gym.make('CartPole-v0')\n",
    "env.reset()\n",
    "\n",
    "imagehandle = display.display(image(env), display_id='gymscr')\n",
    "\n",
    "for _ in range(100):\n",
    "    time.sleep(0.01)\n",
    "    action = env.action_space.sample()\n",
    "    env.step(action) # take a random action\n",
    "    display.update_display(image(env), display_id='gymscr')"
   ]
  },
  {
   "cell_type": "markdown",
   "metadata": {},
   "source": [
    "### Example1\n",
    "\n",
    "Observation values\n",
    "1. the cart’s horizontal position (0.0 = center), \n",
    "2. its velocity (positive means right), \n",
    "3. the angle of the pole (0.0 = vertical), \n",
    "4. its angular velocity (positive means clockwise)"
   ]
  },
  {
   "cell_type": "code",
   "execution_count": 8,
   "metadata": {},
   "outputs": [],
   "source": [
    "def basic_policy(obs):\n",
    "    angle = obs[2] # get the angle\n",
    "    return 0 if angle < 0 else 1 \n",
    "    # if < 0 then 0\n",
    "    # if >= 0 then 1"
   ]
  },
  {
   "cell_type": "code",
   "execution_count": 9,
   "metadata": {},
   "outputs": [
    {
     "data": {
      "image/png": "[encoded data removed]",
      "text/plain": [
       "<IPython.core.display.Image object>"
      ]
     },
     "metadata": {
      "image/png": {
       "width": 450
      }
     },
     "output_type": "display_data"
    },
    {
     "name": "stdout",
     "output_type": "stream",
     "text": [
      "1 [-0.04253222  0.17163967  0.04464734 -0.326816  ] 1.0 False {}\n",
      "1 [-0.03909943  0.36609847  0.03811102 -0.60509157] 1.0 False {}\n",
      "1 [-0.03177746  0.56066732  0.02600919 -0.885531  ] 1.0 False {}\n",
      "1 [-0.02056411  0.75542669  0.00829857 -1.1699254 ] 1.0 False {}\n",
      "1 [-0.00545558  0.95043973 -0.01509994 -1.45999514] 1.0 False {}\n",
      "0 [ 0.01355321  0.75550615 -0.04429985 -1.17206733] 1.0 False {}\n",
      "0 [ 0.02866334  0.56098726 -0.06774119 -0.89359513] 1.0 False {}\n",
      "0 [ 0.03988308  0.3668462  -0.08561309 -0.62295214] 1.0 False {}\n",
      "0 [ 0.04722001  0.1730174  -0.09807214 -0.35841332] 1.0 False {}\n",
      "0 [ 0.05068035 -0.02058351 -0.1052404  -0.0981944 ] 1.0 False {}\n",
      "0 [ 0.05026868 -0.21405206 -0.10720429  0.15951923] 1.0 False {}\n",
      "0 [ 0.04598764 -0.40748891 -0.10401391  0.41655103] 1.0 False {}\n",
      "0 [ 0.03783786 -0.60099483 -0.09568289  0.67471621] 1.0 False {}\n",
      "0 [ 0.02581797 -0.79466599 -0.08218856  0.93580628] 1.0 False {}\n",
      "0 [ 0.00992465 -0.98858905 -0.06347244  1.20157272] 1.0 False {}\n",
      "0 [-0.00984713 -1.18283532 -0.03944098  1.47370702] 1.0 False {}\n",
      "0 [-0.03350384 -1.37745362 -0.00996684  1.7538148 ] 1.0 False {}\n",
      "0 [-0.06105291 -1.57246113  0.02510945  2.04338134] 1.0 False {}\n",
      "1 [-0.09250213 -1.37760585  0.06597708  1.75857195] 1.0 False {}\n",
      "1 [-0.12005425 -1.18329025  0.10114852  1.4871159 ] 1.0 False {}\n",
      "1 [-0.14372006 -0.98953573  0.13089084  1.22765656] 1.0 False {}\n",
      "1 [-0.16351077 -0.7963185   0.15544397  0.97868201] 1.0 False {}\n",
      "1 [-0.17943714 -0.60358346  0.17501761  0.73858189] 1.0 False {}\n",
      "1 [-0.19150881 -0.41125459  0.18978925  0.50568865] 1.0 False {}\n",
      "1 [-0.1997339  -0.21924255  0.19990302  0.27830592] 1.0 False {}\n",
      "1 [-0.20411875 -0.0274501   0.20546914  0.05472715] 1.0 False {}\n",
      "1 [-0.20466775  0.16422414  0.20656368 -0.16675274] 1.0 False {}\n",
      "1 [-0.20138327  0.35588287  0.20322863 -0.38783049] 1.0 False {}\n",
      "1 [-0.19426561  0.5476279   0.19547202 -0.61019011] 1.0 False {}\n",
      "1 [-0.18331306  0.73955812  0.18326821 -0.83549929] 1.0 False {}\n",
      "1 [-0.16852189  0.9317672   0.16655823 -1.06540487] 1.0 False {}\n",
      "1 [-0.14988655  1.12434069  0.14525013 -1.30152561] 1.0 False {}\n",
      "1 [-0.12739974  1.31735206  0.11921962 -1.54544043] 1.0 False {}\n",
      "1 [-0.1010527   1.51085722  0.08831081 -1.79867026] 1.0 False {}\n",
      "1 [-0.07083555  1.70488718  0.05233741 -2.06265139] 1.0 False {}\n",
      "1 [-0.03673781  1.89943809  0.01108438 -2.33869799] 1.0 False {}\n",
      "1 [ 1.25095479e-03  2.09445848e+00 -3.56895826e-02 -2.62795187e+00] 1.0 False {}\n",
      "0 [ 0.04314012  1.89962567 -0.08824862 -2.34637927] 1.0 False {}\n",
      "0 [ 0.08113264  1.70539978 -0.13517621 -2.08208557] 1.0 False {}\n",
      "0 [ 0.11524063  1.51188012 -0.17681792 -1.83407502] 1.0 False {}\n",
      "0 [ 0.14547824  1.31910065 -0.21349942 -1.60112843] 1.0 True {}\n",
      "[ 0.14547824  1.31910065 -0.21349942 -1.60112843] 1.0 True {}\n"
     ]
    }
   ],
   "source": [
    "episode_rewards = 0\n",
    "totals = []\n",
    "\n",
    "env = gym.make('CartPole-v0')\n",
    "obs = env.reset()\n",
    "imagehandle = display.display(image(env), display_id='gymscr')\n",
    "for _ in range(200):\n",
    "    time.sleep(0.01)\n",
    "    action = basic_policy(obs)\n",
    "    obs, reward, done, info = env.step(action)\n",
    "    episode_rewards += reward\n",
    "    print(action,obs,reward,done,info)\n",
    "    if done: \n",
    "        print(obs,reward,done,info)\n",
    "        break\n",
    "    display.update_display(image(env), display_id='gymscr')\n",
    "    totals.append(episode_rewards)"
   ]
  },
  {
   "cell_type": "code",
   "execution_count": 10,
   "metadata": {},
   "outputs": [
    {
     "data": {
      "text/plain": [
       "(20.5, 11.543396380615196, 1.0, 40.0)"
      ]
     },
     "execution_count": 10,
     "metadata": {},
     "output_type": "execute_result"
    }
   ],
   "source": [
    "# finish after  np.max(totals) observations\n",
    "np.mean(totals), np.std(totals), np.min(totals), np.max(totals)"
   ]
  },
  {
   "cell_type": "markdown",
   "metadata": {},
   "source": [
    "#### Neural Network Policies\n",
    "* why we are picking a random action based on the probabilities given by the neural network, rather than just picking the action with the highest score. This approach lets the agent find the right balance between exploring new actions and exploiting the actions that are known to work well.\n",
    "* In this particular environment, the past actions and observations can safely be ignored, since each observation contains the environment’s full state\n",
    "*  If there were some hidden state, then you might need to consider past actions and observations as well.\n",
    "* For example, if the environment only revealed the position of the cart but not its velocity, you would have to consider not only the current observation but also the previous observation in order to estimate the current velocity. \n"
   ]
  },
  {
   "cell_type": "code",
   "execution_count": 11,
   "metadata": {},
   "outputs": [],
   "source": [
    "import tensorflow as tf\n",
    "from tensorflow import keras"
   ]
  },
  {
   "cell_type": "markdown",
   "metadata": {},
   "source": [
    "* the total input of neurons is 4, env.observation_space.shape[0]\n",
    "* the otput_neuront is the probability of going left p. Then, p-1 is for going right\n",
    "* the activation function is sigmoid because it is only one output action\n",
    "* If there were more than two possible actions, there would be one output neuron per action, and we would use the softmax activation function instead."
   ]
  },
  {
   "cell_type": "code",
   "execution_count": 12,
   "metadata": {},
   "outputs": [],
   "source": [
    "hidden_units = 5\n",
    "output_neuron = 1 \n",
    "n_inputs = 4 \n",
    "\n",
    "model = keras.models.Sequential([\n",
    "    keras.layers.Dense(hidden_units, activation=\"elu\", input_shape=[n_inputs]),\n",
    "    keras.layers.Dense(output_neuron, activation=\"sigmoid\"),\n",
    "])"
   ]
  },
  {
   "cell_type": "markdown",
   "metadata": {},
   "source": [
    "### The Credit Assignment Problem\n",
    "* If we knew what the best action was at each step, we could train the neural network as usual, by minimizing the cross entropy between the estimated probability distribution and the target probability distribution. It would just be regular supervised learning\n",
    "* In Reinforcement Learning the only guidance the agent gets is through rewards, and rewards are typically sparse and delayed\n",
    "*  For example, if the agent manages to balance the pole for 100 steps, how can it know which of the 100 actions it took were good, and which of them were bad?\n",
    "* This is called the credit assignment problem: when the agent gets a reward, it is hard for it to know which actions should get credited (or blamed) for it.\n",
    "* a common strategy is to evaluate an action based on the sum of all the rewards that come after it, usually applying a discount factor γ (gamma) at each step\n",
    "* If the discount factor is close to 0, then future rewards won’t count for much compared to immediate rewards. \n",
    "* Conversely, if the discount factor is close to 1, then rewards far into the future will count almost as much as immediate rewards.\n",
    "* Typical discount factors vary from 0.9 to 0.99.\n",
    "* With a discount factor of 0.95, rewards 13 steps into the future count roughly for half as much as immediate rewards (since 0.9513 ≈ 0.5)\n",
    "* The action advantage, estimate how much better or worse an action is compared to the other possible actions. For this, we must run many episodes and normalize all the action returns (by subtracting the mean and dividing by the standard deviation). "
   ]
  },
  {
   "cell_type": "markdown",
   "metadata": {},
   "source": [
    "The PG algorithms directly try to optimize the policy to increase rewards"
   ]
  },
  {
   "cell_type": "code",
   "execution_count": 13,
   "metadata": {},
   "outputs": [],
   "source": [
    "def play_one_step(env, obs, model, loss_fn):\n",
    "    with tf.GradientTape() as tape:\n",
    "        left_proba = model(obs[np.newaxis])\n",
    "        action = (tf.random.uniform([1, 1]) > left_proba)\n",
    "        y_target = tf.constant([[1.]]) - tf.cast(action, tf.float32)\n",
    "        loss = tf.reduce_mean(loss_fn(y_target, left_proba))\n",
    "    grads = tape.gradient(loss, model.trainable_variables)\n",
    "    obs, reward, done, info = env.step(int(action[0, 0].numpy()))\n",
    "    return obs, reward, done, grads"
   ]
  },
  {
   "cell_type": "markdown",
   "metadata": {},
   "source": [
    "To play multiple episodes, returning all the rewards and gradients for each episode and each step"
   ]
  },
  {
   "cell_type": "code",
   "execution_count": 14,
   "metadata": {},
   "outputs": [],
   "source": [
    "def play_multiple_episodes(env, n_episodes, n_max_steps, model, loss_fn):\n",
    "    all_rewards = []\n",
    "    all_grads = []\n",
    "    for episode in range(n_episodes):\n",
    "        current_rewards = []\n",
    "        current_grads = []\n",
    "        obs = env.reset()\n",
    "        for step in range(n_max_steps):\n",
    "            obs, reward, done, grads = play_one_step(env, obs, model, loss_fn)\n",
    "            current_rewards.append(reward)\n",
    "            current_grads.append(grads)\n",
    "            if done:\n",
    "                break\n",
    "        all_rewards.append(current_rewards)\n",
    "        all_grads.append(current_grads)\n",
    "    return all_rewards, all_grads"
   ]
  },
  {
   "cell_type": "code",
   "execution_count": 15,
   "metadata": {},
   "outputs": [],
   "source": [
    "def discount_rewards(rewards, discount_factor):\n",
    "    discounted = np.array(rewards)\n",
    "    for step in range(len(rewards) - 2, -1, -1):\n",
    "        discounted[step] += discounted[step + 1] * discount_factor\n",
    "    return discounted"
   ]
  },
  {
   "cell_type": "code",
   "execution_count": 16,
   "metadata": {},
   "outputs": [],
   "source": [
    "def discount_and_normalize_rewards(all_rewards, discount_factor):\n",
    "    all_discounted_rewards = [discount_rewards(rewards, discount_factor)\n",
    "                              for rewards in all_rewards]\n",
    "    flat_rewards = np.concatenate(all_discounted_rewards)\n",
    "    reward_mean = flat_rewards.mean()\n",
    "    reward_std = flat_rewards.std()\n",
    "    return [(discounted_rewards - reward_mean) / reward_std\n",
    "            for discounted_rewards in all_discounted_rewards]"
   ]
  },
  {
   "cell_type": "code",
   "execution_count": 17,
   "metadata": {},
   "outputs": [
    {
     "data": {
      "text/plain": [
       "array([-22, -40, -50])"
      ]
     },
     "execution_count": 17,
     "metadata": {},
     "output_type": "execute_result"
    }
   ],
   "source": [
    "discount_rewards([10, 0, -50], discount_factor=0.8)"
   ]
  },
  {
   "cell_type": "code",
   "execution_count": 18,
   "metadata": {},
   "outputs": [
    {
     "data": {
      "text/plain": [
       "[array([-0.28435071, -0.86597718, -1.18910299]),\n",
       " array([1.26665318, 1.0727777 ])]"
      ]
     },
     "execution_count": 18,
     "metadata": {},
     "output_type": "execute_result"
    }
   ],
   "source": [
    "discount_and_normalize_rewards([[10, 0, -50], [10, 20]],\n",
    "...                                discount_factor=0.8)"
   ]
  },
  {
   "cell_type": "code",
   "execution_count": 24,
   "metadata": {},
   "outputs": [],
   "source": [
    "# Now let’s define the hyperparameters\n",
    "n_iterations = 10\n",
    "n_episodes_per_update = 10\n",
    "n_max_steps = 200\n",
    "discount_factor = 0.95"
   ]
  },
  {
   "cell_type": "code",
   "execution_count": 25,
   "metadata": {},
   "outputs": [
    {
     "name": "stdout",
     "output_type": "stream",
     "text": [
      "0\n",
      "1\n",
      "2\n",
      "3\n",
      "4\n",
      "5\n",
      "6\n",
      "7\n",
      "8\n",
      "9\n"
     ]
    }
   ],
   "source": [
    "optimizer = keras.optimizers.Adam(lr=0.01)\n",
    "loss_fn = keras.losses.binary_crossentropy\n",
    "\n",
    "for iteration in range(n_iterations):\n",
    "    print(iteration)\n",
    "    all_rewards, all_grads = play_multiple_episodes(\n",
    "        env, n_episodes_per_update, n_max_steps, model, loss_fn)\n",
    "    all_final_rewards = discount_and_normalize_rewards(all_rewards,\n",
    "                                                       discount_factor)\n",
    "    all_mean_grads = []\n",
    "    for var_index in range(len(model.trainable_variables)):\n",
    "        mean_grads = tf.reduce_mean(\n",
    "            [final_reward * all_grads[episode_index][step][var_index]\n",
    "             for episode_index, final_rewards in enumerate(all_final_rewards)\n",
    "                 for step, final_reward in enumerate(final_rewards)], axis=0)\n",
    "        all_mean_grads.append(mean_grads)\n",
    "    optimizer.apply_gradients(zip(all_mean_grads, model.trainable_variables))"
   ]
  },
  {
   "cell_type": "code",
   "execution_count": 27,
   "metadata": {},
   "outputs": [
    {
     "data": {
      "text/plain": [
       "<tensorflow.python.keras.optimizer_v2.adam.Adam at 0x7f53c0066a30>"
      ]
     },
     "execution_count": 27,
     "metadata": {},
     "output_type": "execute_result"
    }
   ],
   "source": [
    "optimizer"
   ]
  },
  {
   "cell_type": "markdown",
   "metadata": {},
   "source": [
    "### Markov Decision Process\n",
    "* the agent learns to estimate the expected return for each state, or for each action in each state, then it uses this knowledge to decide how to act\n",
    "* The Stochastic processes with no memory are called Markov chains. \n",
    "* Such a process has a fixed number of states, and it randomly evolves from one state to another at each step. \n",
    "* The probability for it to evolve from a state s to a state s′ is fixed, and it depends only on the pair (s, s′), not on past states (this is why we say that the system has no memory).\n",
    "* Markov decision processes resemble Markov chains but with a twist: at each step, an agent can choose one of several possible actions, and the transition probabilities depend on the chosen action. "
   ]
  },
  {
   "cell_type": "code",
   "execution_count": 26,
   "metadata": {},
   "outputs": [],
   "source": [
    "transition_probabilities = [ # shape=[s, a, s']\n",
    "        [[0.7, 0.3, 0.0], [1.0, 0.0, 0.0], [0.8, 0.2, 0.0]],\n",
    "        [[0.0, 1.0, 0.0], None, [0.0, 0.0, 1.0]],\n",
    "        [None, [0.8, 0.1, 0.1], None]]\n",
    "rewards = [ # shape=[s, a, s']\n",
    "        [[+10, 0, 0], [0, 0, 0], [0, 0, 0]],\n",
    "        [[0, 0, 0], [0, 0, 0], [0, 0, -50]],\n",
    "        [[0, 0, 0], [+40, 0, 0], [0, 0, 0]]]\n",
    "possible_actions = [[0, 1, 2], [0, 2], [1]]"
   ]
  },
  {
   "cell_type": "code",
   "execution_count": 31,
   "metadata": {},
   "outputs": [
    {
     "name": "stdout",
     "output_type": "stream",
     "text": [
      "[[18.91891892 17.02702702 13.62162162]\n",
      " [ 0.                -inf -4.87971488]\n",
      " [       -inf 50.13365013        -inf]]\n",
      "[0 0 1]\n"
     ]
    }
   ],
   "source": [
    "Q_values = np.full((3, 3), -np.inf) # -np.inf for impossible actions\n",
    "for state, actions in enumerate(possible_actions):\n",
    "    Q_values[state, actions] = 0.0  # for all possible actions\n",
    "gamma = 0.90 # the discount factor\n",
    "\n",
    "for iteration in range(50):\n",
    "    Q_prev = Q_values.copy()\n",
    "    for s in range(3):\n",
    "        for a in possible_actions[s]:\n",
    "            Q_values[s, a] = np.sum([\n",
    "                    transition_probabilities[s][a][sp]\n",
    "                    * (rewards[s][a][sp] + gamma * np.max(Q_prev[sp]))\n",
    "                for sp in range(3)])\n",
    "print(Q_values)\n",
    "print(np.argmax(Q_values, axis=1))"
   ]
  },
  {
   "cell_type": "markdown",
   "metadata": {},
   "source": [
    "### Temporal Difference Learning"
   ]
  }
 ],
 "metadata": {
  "kernelspec": {
   "display_name": "Python 3",
   "language": "python",
   "name": "python3"
  },
  "language_info": {
   "codemirror_mode": {
    "name": "ipython",
    "version": 3
   },
   "file_extension": ".py",
   "mimetype": "text/x-python",
   "name": "python",
   "nbconvert_exporter": "python",
   "pygments_lexer": "ipython3",
   "version": "3.8.6"
  }
 },
 "nbformat": 4,
 "nbformat_minor": 2
}
